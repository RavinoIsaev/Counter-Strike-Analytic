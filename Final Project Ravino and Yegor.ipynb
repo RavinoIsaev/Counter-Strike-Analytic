{
 "cells": [
  {
   "cell_type": "code",
   "execution_count": 1,
   "id": "6591d0d8",
   "metadata": {},
   "outputs": [],
   "source": [
    "# ------------>>>>>>>> RUN THIS CODE CELL <<<<<<<<------------\n",
    "# === CELL TYPE: IMPORTS AND SETUP \n",
    "\n",
    "import time      # for testing use only\n",
    "import os         # for testing use only\n",
    "import requests\n",
    "import bs4\n",
    "from bs4 import BeautifulSoup  \n",
    "import pandas as pd\n",
    "import scipy as sc\n",
    "import numpy as np\n",
    "import pyppdf.patch_pyppeteer\n",
    "import cloudscraper\n",
    "import re\n",
    "import matplotlib as mpl\n",
    "from matplotlib import pyplot as plt\n",
    "import seaborn as sns\n",
    "from sklearn.model_selection import train_test_split\n",
    "from sklearn.svm import SVC\n",
    "from sklearn.neighbors import KNeighborsClassifier\n",
    "from sklearn.linear_model import LogisticRegression, LinearRegression\n",
    "from sklearn.metrics import r2_score, f1_score\n",
    "%matplotlib inline"
   ]
  },
  {
   "cell_type": "code",
   "execution_count": 2,
   "id": "98db6757",
   "metadata": {},
   "outputs": [],
   "source": [
    "url = 'https://www.hltv.org/stats/players?minMapCount='"
   ]
  },
  {
   "cell_type": "code",
   "execution_count": 3,
   "id": "5de1e806",
   "metadata": {},
   "outputs": [],
   "source": [
    "def get_soup(entered_url):\n",
    "    scraper = cloudscraper.create_scraper()\n",
    "    response = scraper.get(entered_url)\n",
    "    soup = BeautifulSoup(response.content,\"html.parser\")\n",
    "    return soup"
   ]
  },
  {
   "cell_type": "code",
   "execution_count": 4,
   "id": "47dbba7b",
   "metadata": {},
   "outputs": [],
   "source": [
    "def get_link(table):\n",
    "    links = list()\n",
    "    for link in table:\n",
    "        cells=link.td.a.get('href')\n",
    "        link='https://www.hltv.org' +cells\n",
    "        links.append(link)\n",
    "    return links"
   ]
  },
  {
   "cell_type": "code",
   "execution_count": 5,
   "id": "524b2bd1",
   "metadata": {},
   "outputs": [],
   "source": [
    "def get_num(div_item):\n",
    "    if len(div_item) == 0:\n",
    "        return None\n",
    "    num = re.sub('[^0-9\\.]','', div_item.text)\n",
    "    float_num = float(num)\n",
    "    return float_num"
   ]
  },
  {
   "cell_type": "code",
   "execution_count": 6,
   "id": "5b0de1c9",
   "metadata": {},
   "outputs": [],
   "source": [
    "def get_player_dataDF(links):\n",
    "    Player_name = list()\n",
    "    Player_age = list()\n",
    "    Total_kills = list()\n",
    "    Headshot = list()\n",
    "    Total_deaths = list()\n",
    "    Kill_deaths = list()\n",
    "    Damage_in_Round = list()\n",
    "    Grenade_dmg_in_Round = list()\n",
    "    Maps_played = list()\n",
    "    Rounds_played = list()\n",
    "    Kills_in_round = list()\n",
    "    Assists_in_round = list()\n",
    "    Deaths_in_round = list()\n",
    "    Saved_by_teammate_in_round = list()\n",
    "    Saved_teammates_in_round = list()\n",
    "    Rating = list()\n",
    "    for link in links:\n",
    "        soup = get_soup(link)\n",
    "        player = soup.find_all('div',{'class':'stats-row'})\n",
    "        if len(player)<14:\n",
    "            continue\n",
    "        #### Player details AGE and NAME\n",
    "        Player_name.append(soup.find('h1',{'class':'summaryNickname text-ellipsis'}).text)\n",
    "        #print(f'Player name :',soup.find('h1',{'class':'summaryNickname text-ellipsis'}).text) # just print name\n",
    "        Player_age.append(get_num(soup.find('div',{'class':'summaryPlayerAge'})))\n",
    "        ####    \n",
    "        Total_kills.append(player[0].find_next('span').find_next('span').text)\n",
    "        Headshot.append((player[1].find_next('span').find_next('span').text))\n",
    "        Total_deaths.append((player[2].find_next('span').find_next('span').text))\n",
    "        Kill_deaths.append((player[3].find_next('span').find_next('span').text))\n",
    "        Damage_in_Round.append((player[4].find_next('span').find_next('span').text))\n",
    "        Grenade_dmg_in_Round.append((player[5].find_next('span').find_next('span').text))\n",
    "        Maps_played.append((player[6].find_next('span').find_next('span').text))\n",
    "        Rounds_played.append((player[7].find_next('span').find_next('span').text))\n",
    "        Kills_in_round.append((player[8].find_next('span').find_next('span').text))\n",
    "        Assists_in_round.append((player[9].find_next('span').find_next('span').text))\n",
    "        Deaths_in_round.append((player[10].find_next('span').find_next('span').text))\n",
    "        Saved_by_teammate_in_round.append((player[11].find_next('span').find_next('span').text))\n",
    "        Saved_teammates_in_round.append((player[12].find_next('span').find_next('span').text))\n",
    "        Rating.append((soup.find('span',{'class':'strong'}).text))\n",
    "        \n",
    "    \n",
    "    df = pd.DataFrame({'player_name':Player_name,'player_age':Player_age,'Total_kills':Total_kills,\n",
    "                       'Headshot_in_%':Headshot,'Total_deaths':Total_deaths,'Kills_deaths':Kill_deaths,\n",
    "                       'Damage_in_Round':Damage_in_Round,'Grenade_dmg_in_Round':Grenade_dmg_in_Round,'Maps_played':Maps_played,\n",
    "                       'Rounds_played':Rounds_played,'Kills_in_round':Kills_in_round,'Assists_in_round':Assists_in_round,\n",
    "                       'Deaths_in_round':Deaths_in_round,'Saved_by_teammate_in_round':Saved_by_teammate_in_round,\n",
    "                        'Saved_teammates_in_round':Saved_teammates_in_round,'Rating':Rating})\n",
    "    return df\n",
    "    #print(len(Player_name))\n",
    "    #print(len(Player_age))\n",
    "    #print(len(Total_kills))\n",
    "    #print(len(Headshot))\n",
    "    #print(len(Total_deaths))\n",
    "    #print(len(Damage_in_Round))\n",
    "    #print(len(Grenade_dmg_in_Round))\n",
    "    #print(len(Maps_played))\n",
    "    #print(len(Rounds_played))\n",
    "    #print(len(Kills_in_round))\n",
    "    #print(len(Assists_in_round))\n",
    "    #print(len(Deaths_in_round))\n",
    "    #print(len(Saved_by_teammate_in_round))\n",
    "    #print(len(Saved_teammates_in_round))\n",
    "    #print(len(Rating))\n",
    "    #print(player)\n",
    "        \n",
    "\n",
    "    "
   ]
  },
  {
   "cell_type": "code",
   "execution_count": 7,
   "id": "45613b98",
   "metadata": {},
   "outputs": [
    {
     "ename": "NameError",
     "evalue": "name 'url' is not defined",
     "output_type": "error",
     "traceback": [
      "\u001b[1;31m---------------------------------------------------------------------------\u001b[0m",
      "\u001b[1;31mNameError\u001b[0m                                 Traceback (most recent call last)",
      "\u001b[1;32m<ipython-input-7-30bd78609af8>\u001b[0m in \u001b[0;36m<module>\u001b[1;34m\u001b[0m\n\u001b[0;32m      1\u001b[0m \u001b[0mlinks\u001b[0m \u001b[1;33m=\u001b[0m \u001b[0mlist\u001b[0m\u001b[1;33m(\u001b[0m\u001b[1;33m)\u001b[0m\u001b[1;33m\u001b[0m\u001b[1;33m\u001b[0m\u001b[0m\n\u001b[0;32m      2\u001b[0m \u001b[0mmin_map\u001b[0m \u001b[1;33m=\u001b[0m \u001b[1;34m'20'\u001b[0m\u001b[1;33m\u001b[0m\u001b[1;33m\u001b[0m\u001b[0m\n\u001b[1;32m----> 3\u001b[1;33m \u001b[0msoup\u001b[0m \u001b[1;33m=\u001b[0m \u001b[0mget_soup\u001b[0m\u001b[1;33m(\u001b[0m\u001b[0murl\u001b[0m\u001b[1;33m+\u001b[0m\u001b[0mmin_map\u001b[0m\u001b[1;33m)\u001b[0m\u001b[1;33m\u001b[0m\u001b[1;33m\u001b[0m\u001b[0m\n\u001b[0m\u001b[0;32m      4\u001b[0m \u001b[0mtable\u001b[0m \u001b[1;33m=\u001b[0m \u001b[0msoup\u001b[0m\u001b[1;33m.\u001b[0m\u001b[0mfind\u001b[0m\u001b[1;33m(\u001b[0m\u001b[1;34m'table'\u001b[0m\u001b[1;33m,\u001b[0m\u001b[1;33m{\u001b[0m\u001b[1;34m'class'\u001b[0m\u001b[1;33m:\u001b[0m\u001b[1;34m'stats-table player-ratings-table'\u001b[0m\u001b[1;33m}\u001b[0m\u001b[1;33m)\u001b[0m\u001b[1;33m.\u001b[0m\u001b[0mtbody\u001b[0m\u001b[1;33m.\u001b[0m\u001b[0mfind_all\u001b[0m\u001b[1;33m(\u001b[0m\u001b[1;34m'tr'\u001b[0m\u001b[1;33m)\u001b[0m\u001b[1;33m\u001b[0m\u001b[1;33m\u001b[0m\u001b[0m\n\u001b[0;32m      5\u001b[0m \u001b[1;31m#links = get_link(table)\u001b[0m\u001b[1;33m\u001b[0m\u001b[1;33m\u001b[0m\u001b[1;33m\u001b[0m\u001b[0m\n",
      "\u001b[1;31mNameError\u001b[0m: name 'url' is not defined"
     ]
    }
   ],
   "source": [
    "links = list()\n",
    "min_map = '20'\n",
    "soup = get_soup(url+min_map)\n",
    "table = soup.find('table',{'class':'stats-table player-ratings-table'}).tbody.find_all('tr')\n",
    "#links = get_link(table)"
   ]
  },
  {
   "cell_type": "code",
   "execution_count": 8,
   "id": "bf0f6e1e",
   "metadata": {},
   "outputs": [],
   "source": [
    "#playersDF =get_player_dataDF(links)"
   ]
  },
  {
   "cell_type": "code",
   "execution_count": 10,
   "id": "c76704d6",
   "metadata": {},
   "outputs": [],
   "source": [
    "#playersDF.to_csv(r'C:\\Users\\ravin\\OneDrive\\Dokumente\\לימודים\\שנה ב\\players_mp_is_20.2.csv')\n",
    "#playersDF\n",
    "#csv1 = pd.read_csv(r\"/Users/rejimobla/Desktop/py/players_mp_is_20.complete.csv\",index_col=[0])\n",
    "csv1 = pd.read_csv(r\"C:\\Users\\ravin\\OneDrive\\Dokumente\\לימודים\\שנה ב\\PROJEKT\\players_mp_is_20.complete.csv\",index_col=[0])"
   ]
  },
  {
   "cell_type": "markdown",
   "id": "6ea22f6d",
   "metadata": {},
   "source": [
    "To check specific players:"
   ]
  },
  {
   "cell_type": "code",
   "execution_count": 11,
   "id": "34e3cbd0",
   "metadata": {},
   "outputs": [],
   "source": [
    "#person = list()\n",
    "#url_of_person = 'https://www.hltv.org/stats/players/8992/villig'\n",
    "#person.append(url_of_person)\n",
    "#personDF = get_player_dataDF(person)\n",
    "#personDF"
   ]
  },
  {
   "cell_type": "code",
   "execution_count": 12,
   "id": "5422ece6",
   "metadata": {},
   "outputs": [
    {
     "data": {
      "text/html": [
       "<div>\n",
       "<style scoped>\n",
       "    .dataframe tbody tr th:only-of-type {\n",
       "        vertical-align: middle;\n",
       "    }\n",
       "\n",
       "    .dataframe tbody tr th {\n",
       "        vertical-align: top;\n",
       "    }\n",
       "\n",
       "    .dataframe thead th {\n",
       "        text-align: right;\n",
       "    }\n",
       "</style>\n",
       "<table border=\"1\" class=\"dataframe\">\n",
       "  <thead>\n",
       "    <tr style=\"text-align: right;\">\n",
       "      <th></th>\n",
       "      <th>player_name</th>\n",
       "      <th>player_age</th>\n",
       "      <th>Total_kills</th>\n",
       "      <th>Headshot_in_%</th>\n",
       "      <th>Total_deaths</th>\n",
       "      <th>Kills_deaths</th>\n",
       "      <th>Damage_in_Round</th>\n",
       "      <th>Grenade_dmg_in_Round</th>\n",
       "      <th>Maps_played</th>\n",
       "      <th>Rounds_played</th>\n",
       "      <th>Kills_in_round</th>\n",
       "      <th>Assists_in_round</th>\n",
       "      <th>Deaths_in_round</th>\n",
       "      <th>Saved_by_teammate_in_round</th>\n",
       "      <th>Saved_teammates_in_round</th>\n",
       "      <th>Rating</th>\n",
       "    </tr>\n",
       "  </thead>\n",
       "  <tbody>\n",
       "    <tr>\n",
       "      <th>0</th>\n",
       "      <td>x1ron</td>\n",
       "      <td>22.0</td>\n",
       "      <td>679</td>\n",
       "      <td>42.4</td>\n",
       "      <td>449</td>\n",
       "      <td>1.51</td>\n",
       "      <td>94.1</td>\n",
       "      <td>2.5</td>\n",
       "      <td>30</td>\n",
       "      <td>711</td>\n",
       "      <td>0.95</td>\n",
       "      <td>0.08</td>\n",
       "      <td>0.63</td>\n",
       "      <td>0.08</td>\n",
       "      <td>0.11</td>\n",
       "      <td>1.41</td>\n",
       "    </tr>\n",
       "    <tr>\n",
       "      <th>1</th>\n",
       "      <td>forsaken</td>\n",
       "      <td>26.0</td>\n",
       "      <td>609</td>\n",
       "      <td>59.8</td>\n",
       "      <td>425</td>\n",
       "      <td>1.43</td>\n",
       "      <td>86.5</td>\n",
       "      <td>2.3</td>\n",
       "      <td>27</td>\n",
       "      <td>682</td>\n",
       "      <td>0.89</td>\n",
       "      <td>0.09</td>\n",
       "      <td>0.62</td>\n",
       "      <td>0.09</td>\n",
       "      <td>0.14</td>\n",
       "      <td>1.31</td>\n",
       "    </tr>\n",
       "    <tr>\n",
       "      <th>2</th>\n",
       "      <td>ZywOo</td>\n",
       "      <td>21.0</td>\n",
       "      <td>20835</td>\n",
       "      <td>41.4</td>\n",
       "      <td>15086</td>\n",
       "      <td>1.38</td>\n",
       "      <td>88.8</td>\n",
       "      <td>3.6</td>\n",
       "      <td>934</td>\n",
       "      <td>24502</td>\n",
       "      <td>0.85</td>\n",
       "      <td>0.13</td>\n",
       "      <td>0.62</td>\n",
       "      <td>0.10</td>\n",
       "      <td>0.12</td>\n",
       "      <td>1.33</td>\n",
       "    </tr>\n",
       "    <tr>\n",
       "      <th>4</th>\n",
       "      <td>s1mple</td>\n",
       "      <td>24.0</td>\n",
       "      <td>33651</td>\n",
       "      <td>41.4</td>\n",
       "      <td>25119</td>\n",
       "      <td>1.34</td>\n",
       "      <td>86.5</td>\n",
       "      <td>2.3</td>\n",
       "      <td>1491</td>\n",
       "      <td>39335</td>\n",
       "      <td>0.86</td>\n",
       "      <td>0.10</td>\n",
       "      <td>0.64</td>\n",
       "      <td>0.08</td>\n",
       "      <td>0.11</td>\n",
       "      <td>1.25</td>\n",
       "    </tr>\n",
       "    <tr>\n",
       "      <th>5</th>\n",
       "      <td>HuNtR</td>\n",
       "      <td>25.0</td>\n",
       "      <td>1976</td>\n",
       "      <td>36.7</td>\n",
       "      <td>1440</td>\n",
       "      <td>1.37</td>\n",
       "      <td>89.1</td>\n",
       "      <td>4.7</td>\n",
       "      <td>92</td>\n",
       "      <td>2382</td>\n",
       "      <td>0.83</td>\n",
       "      <td>0.15</td>\n",
       "      <td>0.60</td>\n",
       "      <td>0.09</td>\n",
       "      <td>0.12</td>\n",
       "      <td>1.30</td>\n",
       "    </tr>\n",
       "    <tr>\n",
       "      <th>...</th>\n",
       "      <td>...</td>\n",
       "      <td>...</td>\n",
       "      <td>...</td>\n",
       "      <td>...</td>\n",
       "      <td>...</td>\n",
       "      <td>...</td>\n",
       "      <td>...</td>\n",
       "      <td>...</td>\n",
       "      <td>...</td>\n",
       "      <td>...</td>\n",
       "      <td>...</td>\n",
       "      <td>...</td>\n",
       "      <td>...</td>\n",
       "      <td>...</td>\n",
       "      <td>...</td>\n",
       "      <td>...</td>\n",
       "    </tr>\n",
       "    <tr>\n",
       "      <th>3831</th>\n",
       "      <td>hEATZ</td>\n",
       "      <td>28.0</td>\n",
       "      <td>221</td>\n",
       "      <td>34.8</td>\n",
       "      <td>349</td>\n",
       "      <td>0.63</td>\n",
       "      <td>56.7</td>\n",
       "      <td>1.1</td>\n",
       "      <td>20</td>\n",
       "      <td>413</td>\n",
       "      <td>0.54</td>\n",
       "      <td>0.07</td>\n",
       "      <td>0.85</td>\n",
       "      <td>0.07</td>\n",
       "      <td>0.06</td>\n",
       "      <td>0.69</td>\n",
       "    </tr>\n",
       "    <tr>\n",
       "      <th>3832</th>\n",
       "      <td>Bogdan</td>\n",
       "      <td>24.0</td>\n",
       "      <td>266</td>\n",
       "      <td>41.4</td>\n",
       "      <td>418</td>\n",
       "      <td>0.64</td>\n",
       "      <td>55.4</td>\n",
       "      <td>3.9</td>\n",
       "      <td>22</td>\n",
       "      <td>572</td>\n",
       "      <td>0.47</td>\n",
       "      <td>0.11</td>\n",
       "      <td>0.73</td>\n",
       "      <td>0.10</td>\n",
       "      <td>0.09</td>\n",
       "      <td>0.74</td>\n",
       "    </tr>\n",
       "    <tr>\n",
       "      <th>3834</th>\n",
       "      <td>arno</td>\n",
       "      <td>25.0</td>\n",
       "      <td>263</td>\n",
       "      <td>55.9</td>\n",
       "      <td>451</td>\n",
       "      <td>0.58</td>\n",
       "      <td>51.0</td>\n",
       "      <td>3.8</td>\n",
       "      <td>24</td>\n",
       "      <td>588</td>\n",
       "      <td>0.45</td>\n",
       "      <td>0.09</td>\n",
       "      <td>0.77</td>\n",
       "      <td>0.10</td>\n",
       "      <td>0.09</td>\n",
       "      <td>0.66</td>\n",
       "    </tr>\n",
       "    <tr>\n",
       "      <th>3836</th>\n",
       "      <td>flex0r</td>\n",
       "      <td>32.0</td>\n",
       "      <td>263</td>\n",
       "      <td>31.2</td>\n",
       "      <td>455</td>\n",
       "      <td>0.58</td>\n",
       "      <td>53.1</td>\n",
       "      <td>6.1</td>\n",
       "      <td>25</td>\n",
       "      <td>618</td>\n",
       "      <td>0.43</td>\n",
       "      <td>0.12</td>\n",
       "      <td>0.74</td>\n",
       "      <td>0.11</td>\n",
       "      <td>0.06</td>\n",
       "      <td>0.63</td>\n",
       "    </tr>\n",
       "    <tr>\n",
       "      <th>3837</th>\n",
       "      <td>shrek</td>\n",
       "      <td>20.0</td>\n",
       "      <td>317</td>\n",
       "      <td>56.2</td>\n",
       "      <td>533</td>\n",
       "      <td>0.59</td>\n",
       "      <td>59.7</td>\n",
       "      <td>1.7</td>\n",
       "      <td>24</td>\n",
       "      <td>613</td>\n",
       "      <td>0.52</td>\n",
       "      <td>0.11</td>\n",
       "      <td>0.87</td>\n",
       "      <td>0.10</td>\n",
       "      <td>0.05</td>\n",
       "      <td>0.69</td>\n",
       "    </tr>\n",
       "  </tbody>\n",
       "</table>\n",
       "<p>3492 rows × 16 columns</p>\n",
       "</div>"
      ],
      "text/plain": [
       "     player_name  player_age  Total_kills Headshot_in_%  Total_deaths  \\\n",
       "0          x1ron        22.0          679          42.4           449   \n",
       "1       forsaken        26.0          609          59.8           425   \n",
       "2          ZywOo        21.0        20835          41.4         15086   \n",
       "4         s1mple        24.0        33651          41.4         25119   \n",
       "5          HuNtR        25.0         1976          36.7          1440   \n",
       "...          ...         ...          ...           ...           ...   \n",
       "3831       hEATZ        28.0          221          34.8           349   \n",
       "3832      Bogdan        24.0          266          41.4           418   \n",
       "3834        arno        25.0          263          55.9           451   \n",
       "3836      flex0r        32.0          263          31.2           455   \n",
       "3837       shrek        20.0          317          56.2           533   \n",
       "\n",
       "      Kills_deaths  Damage_in_Round  Grenade_dmg_in_Round  Maps_played  \\\n",
       "0             1.51             94.1                   2.5           30   \n",
       "1             1.43             86.5                   2.3           27   \n",
       "2             1.38             88.8                   3.6          934   \n",
       "4             1.34             86.5                   2.3         1491   \n",
       "5             1.37             89.1                   4.7           92   \n",
       "...            ...              ...                   ...          ...   \n",
       "3831          0.63             56.7                   1.1           20   \n",
       "3832          0.64             55.4                   3.9           22   \n",
       "3834          0.58             51.0                   3.8           24   \n",
       "3836          0.58             53.1                   6.1           25   \n",
       "3837          0.59             59.7                   1.7           24   \n",
       "\n",
       "      Rounds_played  Kills_in_round  Assists_in_round  Deaths_in_round  \\\n",
       "0               711            0.95              0.08             0.63   \n",
       "1               682            0.89              0.09             0.62   \n",
       "2             24502            0.85              0.13             0.62   \n",
       "4             39335            0.86              0.10             0.64   \n",
       "5              2382            0.83              0.15             0.60   \n",
       "...             ...             ...               ...              ...   \n",
       "3831            413            0.54              0.07             0.85   \n",
       "3832            572            0.47              0.11             0.73   \n",
       "3834            588            0.45              0.09             0.77   \n",
       "3836            618            0.43              0.12             0.74   \n",
       "3837            613            0.52              0.11             0.87   \n",
       "\n",
       "      Saved_by_teammate_in_round  Saved_teammates_in_round  Rating  \n",
       "0                           0.08                      0.11    1.41  \n",
       "1                           0.09                      0.14    1.31  \n",
       "2                           0.10                      0.12    1.33  \n",
       "4                           0.08                      0.11    1.25  \n",
       "5                           0.09                      0.12    1.30  \n",
       "...                          ...                       ...     ...  \n",
       "3831                        0.07                      0.06    0.69  \n",
       "3832                        0.10                      0.09    0.74  \n",
       "3834                        0.10                      0.09    0.66  \n",
       "3836                        0.11                      0.06    0.63  \n",
       "3837                        0.10                      0.05    0.69  \n",
       "\n",
       "[3492 rows x 16 columns]"
      ]
     },
     "execution_count": 12,
     "metadata": {},
     "output_type": "execute_result"
    }
   ],
   "source": [
    "csv1.dropna(inplace=True)\n",
    "csv1['Headshot_in_%'].replace({'%':''}, regex=True,inplace=True)\n",
    "csv1.drop_duplicates(inplace=True)\n",
    "csv1"
   ]
  },
  {
   "cell_type": "code",
   "execution_count": 13,
   "id": "3c24addb",
   "metadata": {},
   "outputs": [
    {
     "data": {
      "text/html": [
       "<div>\n",
       "<style scoped>\n",
       "    .dataframe tbody tr th:only-of-type {\n",
       "        vertical-align: middle;\n",
       "    }\n",
       "\n",
       "    .dataframe tbody tr th {\n",
       "        vertical-align: top;\n",
       "    }\n",
       "\n",
       "    .dataframe thead th {\n",
       "        text-align: right;\n",
       "    }\n",
       "</style>\n",
       "<table border=\"1\" class=\"dataframe\">\n",
       "  <thead>\n",
       "    <tr style=\"text-align: right;\">\n",
       "      <th></th>\n",
       "      <th>player_name</th>\n",
       "      <th>player_age</th>\n",
       "      <th>Total_kills</th>\n",
       "      <th>Headshot_in_%</th>\n",
       "      <th>Total_deaths</th>\n",
       "      <th>Kills_deaths</th>\n",
       "      <th>Damage_in_Round</th>\n",
       "      <th>Grenade_dmg_in_Round</th>\n",
       "      <th>Maps_played</th>\n",
       "      <th>Rounds_played</th>\n",
       "      <th>Kills_in_round</th>\n",
       "      <th>Assists_in_round</th>\n",
       "      <th>Deaths_in_round</th>\n",
       "      <th>Saved_by_teammate_in_round</th>\n",
       "      <th>Saved_teammates_in_round</th>\n",
       "      <th>Rating</th>\n",
       "    </tr>\n",
       "  </thead>\n",
       "  <tbody>\n",
       "    <tr>\n",
       "      <th>2578</th>\n",
       "      <td>Zeus</td>\n",
       "      <td>34.0</td>\n",
       "      <td>23470</td>\n",
       "      <td>43.5</td>\n",
       "      <td>25460</td>\n",
       "      <td>0.92</td>\n",
       "      <td>69.9</td>\n",
       "      <td>5.5</td>\n",
       "      <td>1405</td>\n",
       "      <td>37152</td>\n",
       "      <td>0.63</td>\n",
       "      <td>0.17</td>\n",
       "      <td>0.69</td>\n",
       "      <td>0.11</td>\n",
       "      <td>0.08</td>\n",
       "      <td>0.92</td>\n",
       "    </tr>\n",
       "  </tbody>\n",
       "</table>\n",
       "</div>"
      ],
      "text/plain": [
       "     player_name  player_age  Total_kills Headshot_in_%  Total_deaths  \\\n",
       "2578        Zeus        34.0        23470          43.5         25460   \n",
       "\n",
       "      Kills_deaths  Damage_in_Round  Grenade_dmg_in_Round  Maps_played  \\\n",
       "2578          0.92             69.9                   5.5         1405   \n",
       "\n",
       "      Rounds_played  Kills_in_round  Assists_in_round  Deaths_in_round  \\\n",
       "2578          37152            0.63              0.17             0.69   \n",
       "\n",
       "      Saved_by_teammate_in_round  Saved_teammates_in_round  Rating  \n",
       "2578                        0.11                      0.08    0.92  "
      ]
     },
     "execution_count": 13,
     "metadata": {},
     "output_type": "execute_result"
    }
   ],
   "source": [
    "# To check specific players\n",
    "value = 'Zeus'\n",
    "csv1[csv1.eq(value).any(1)]"
   ]
  },
  {
   "cell_type": "code",
   "execution_count": 14,
   "id": "772e8b9a",
   "metadata": {},
   "outputs": [],
   "source": [
    "#VISUALIZATION"
   ]
  },
  {
   "cell_type": "code",
   "execution_count": 15,
   "id": "af50a652",
   "metadata": {},
   "outputs": [
    {
     "data": {
      "text/plain": [
       "18 to 24    1750\n",
       "25 to 30    1325\n",
       "31-42        357\n",
       "under 18      60\n",
       "Name: player_age, dtype: int64"
      ]
     },
     "execution_count": 15,
     "metadata": {},
     "output_type": "execute_result"
    }
   ],
   "source": [
    "dfage = pd.cut(csv1[\"player_age\"],bins=[10,17,24,30,42],labels=['under 18','18 to 24','25 to 30','31-42']).value_counts()\n",
    "dfage"
   ]
  },
  {
   "cell_type": "code",
   "execution_count": 16,
   "id": "060582e3",
   "metadata": {},
   "outputs": [
    {
     "data": {
      "text/plain": [
       "<AxesSubplot:ylabel='player_age'>"
      ]
     },
     "execution_count": 16,
     "metadata": {},
     "output_type": "execute_result"
    },
    {
     "data": {
      "image/png": "[encoded data removed]",
      "text/plain": [
       "<Figure size 432x288 with 1 Axes>"
      ]
     },
     "metadata": {},
     "output_type": "display_data"
    }
   ],
   "source": [
    "dfage.plot(kind='pie')\n",
    "### Here we can see that more than 50% players is between 18-25 years\n",
    "### 37% 25-10 years\n",
    "### 10% is 31-42 years\n",
    "### 0.017% is under 18 years"
   ]
  },
  {
   "cell_type": "code",
   "execution_count": 17,
   "id": "85c3dd5d",
   "metadata": {},
   "outputs": [
    {
     "data": {
      "text/plain": [
       "<AxesSubplot:>"
      ]
     },
     "execution_count": 17,
     "metadata": {},
     "output_type": "execute_result"
    },
    {
     "data": {
      "image/png": "[encoded data removed]",
      "text/plain": [
       "<Figure size 432x288 with 1 Axes>"
      ]
     },
     "metadata": {
      "needs_background": "light"
     },
     "output_type": "display_data"
    }
   ],
   "source": [
    "dfage.plot(kind='bar')"
   ]
  },
  {
   "cell_type": "code",
   "execution_count": 18,
   "id": "b223c28d",
   "metadata": {},
   "outputs": [
    {
     "data": {
      "text/plain": [
       "<AxesSubplot:ylabel='Rating'>"
      ]
     },
     "execution_count": 18,
     "metadata": {},
     "output_type": "execute_result"
    },
    {
     "data": {
      "image/png": "[encoded data removed]",
      "text/plain": [
       "<Figure size 432x288 with 1 Axes>"
      ]
     },
     "metadata": {},
     "output_type": "display_data"
    }
   ],
   "source": [
    "dfage = pd.cut(csv1[\"Rating\"],bins=[0.6,0.8,0.95,1.2,1.5],labels=['weak','junior','average','high skill']).value_counts()\n",
    "dfage\n",
    "dfage.plot(kind='pie')"
   ]
  },
  {
   "cell_type": "code",
   "execution_count": 19,
   "id": "b15dd1db",
   "metadata": {},
   "outputs": [],
   "source": [
    "def get_kills_deaths_by_category(df):\n",
    "    df1=df.copy()\n",
    "    df1[\"kills_death_group\"] = pd.cut(x=df['Kills_deaths'], bins=[0.57,0.9,1.1,1.51], labels=[\"bad k/d\",\"good k/d\",\"very good k/d\"])\n",
    "    return df1"
   ]
  },
  {
   "cell_type": "code",
   "execution_count": 20,
   "id": "465a322c",
   "metadata": {},
   "outputs": [],
   "source": [
    "def get_damage_in_round_by_category(df):\n",
    "    df1=df.copy()\n",
    "    df1['Damage_round_group']=pd.cut(x=df['Damage_in_Round'],bins=[36,55,74,100], labels=['> 36','> 55','> 74'])\n",
    "    return df1"
   ]
  },
  {
   "cell_type": "code",
   "execution_count": 21,
   "id": "8a6a0034",
   "metadata": {},
   "outputs": [],
   "source": [
    "def get_rounds_by_category(df):\n",
    "    df1=df.copy()\n",
    "    df1['rounds_group']=pd.cut(x=df['Rounds_played'],bins=[400,10000,20000,30000,40000,50000,60000], labels=['0','1','2','3','4','5'])\n",
    "    return df1"
   ]
  },
  {
   "cell_type": "code",
   "execution_count": 22,
   "id": "fb64175f",
   "metadata": {},
   "outputs": [],
   "source": [
    "csv2 = get_kills_deaths_by_category(csv1)\n",
    "csv2 = get_damage_in_round_by_category(csv2)\n",
    "csv2 = get_rounds_by_category(csv2)"
   ]
  },
  {
   "cell_type": "code",
   "execution_count": 23,
   "id": "e3f14427",
   "metadata": {},
   "outputs": [],
   "source": [
    "ct1 = pd.crosstab(csv2['Damage_round_group'],csv2['kills_death_group'],normalize='index')\n",
    "#csv2['kills_death_group']\n",
    "ct2 = pd.crosstab(csv2['rounds_group'],csv2['kills_death_group'],normalize='index')"
   ]
  },
  {
   "cell_type": "code",
   "execution_count": 24,
   "id": "b406e48c",
   "metadata": {},
   "outputs": [
    {
     "data": {
      "text/plain": [
       "<AxesSubplot:xlabel='Damage_round_group'>"
      ]
     },
     "execution_count": 24,
     "metadata": {},
     "output_type": "execute_result"
    },
    {
     "data": {
      "image/png": "[encoded data removed]",
      "text/plain": [
       "<Figure size 432x288 with 1 Axes>"
      ]
     },
     "metadata": {
      "needs_background": "light"
     },
     "output_type": "display_data"
    }
   ],
   "source": [
    "ct1.plot(kind='bar')"
   ]
  },
  {
   "cell_type": "code",
   "execution_count": 25,
   "id": "4f8484ea",
   "metadata": {},
   "outputs": [
    {
     "data": {
      "text/plain": [
       "<AxesSubplot:xlabel='rounds_group'>"
      ]
     },
     "execution_count": 25,
     "metadata": {},
     "output_type": "execute_result"
    },
    {
     "data": {
      "image/png": "[encoded data removed]",
      "text/plain": [
       "<Figure size 432x288 with 1 Axes>"
      ]
     },
     "metadata": {
      "needs_background": "light"
     },
     "output_type": "display_data"
    }
   ],
   "source": [
    "ct2.plot(kind='bar')"
   ]
  },
  {
   "cell_type": "code",
   "execution_count": 26,
   "id": "e50e4b4a",
   "metadata": {},
   "outputs": [
    {
     "name": "stderr",
     "output_type": "stream",
     "text": [
      "C:\\Users\\ravin\\anaconda3\\lib\\site-packages\\seaborn\\_decorators.py:36: FutureWarning: Pass the following variables as keyword args: x, y. From version 0.12, the only valid positional argument will be `data`, and passing other arguments without an explicit keyword will result in an error or misinterpretation.\n",
      "  warnings.warn(\n"
     ]
    },
    {
     "data": {
      "text/plain": [
       "<AxesSubplot:xlabel='player_age', ylabel='Rating'>"
      ]
     },
     "execution_count": 26,
     "metadata": {},
     "output_type": "execute_result"
    },
    {
     "data": {
      "image/png": "[encoded data removed]",
      "text/plain": [
       "<Figure size 432x288 with 1 Axes>"
      ]
     },
     "metadata": {
      "needs_background": "light"
     },
     "output_type": "display_data"
    }
   ],
   "source": [
    "sns.lineplot(csv1[\"player_age\"],csv1[\"Rating\"])\n",
    "#Here we can see that skill decreases with age"
   ]
  },
  {
   "cell_type": "code",
   "execution_count": 27,
   "id": "b54496dc",
   "metadata": {},
   "outputs": [
    {
     "data": {
      "text/plain": [
       "Text(0, 0.5, 'Maps played')"
      ]
     },
     "execution_count": 27,
     "metadata": {},
     "output_type": "execute_result"
    },
    {
     "data": {
      "image/png": "[encoded data removed]",
      "text/plain": [
       "<Figure size 432x288 with 1 Axes>"
      ]
     },
     "metadata": {
      "needs_background": "light"
     },
     "output_type": "display_data"
    }
   ],
   "source": [
    "plt.scatter(csv1.Total_kills, csv1.Maps_played)\n",
    "plt.xlabel(\"Total kills\") #x label\n",
    "plt.ylabel(\"Maps played\") #y label"
   ]
  },
  {
   "cell_type": "code",
   "execution_count": 28,
   "id": "53ac88b6",
   "metadata": {},
   "outputs": [
    {
     "data": {
      "text/plain": [
       "<matplotlib.collections.PathCollection at 0x1a9a1a51550>"
      ]
     },
     "execution_count": 28,
     "metadata": {},
     "output_type": "execute_result"
    },
    {
     "data": {
      "image/png": "[encoded data removed]",
      "text/plain": [
       "<Figure size 432x288 with 1 Axes>"
      ]
     },
     "metadata": {
      "needs_background": "light"
     },
     "output_type": "display_data"
    }
   ],
   "source": [
    "plt.scatter(csv1.Kills_in_round, csv1.Rating)"
   ]
  },
  {
   "cell_type": "code",
   "execution_count": 29,
   "id": "6cac71d0",
   "metadata": {},
   "outputs": [
    {
     "data": {
      "text/plain": [
       "<matplotlib.collections.PathCollection at 0x1a9a2a78850>"
      ]
     },
     "execution_count": 29,
     "metadata": {},
     "output_type": "execute_result"
    },
    {
     "data": {
      "image/png": "[encoded data removed]",
      "text/plain": [
       "<Figure size 432x288 with 1 Axes>"
      ]
     },
     "metadata": {
      "needs_background": "light"
     },
     "output_type": "display_data"
    }
   ],
   "source": [
    "plt.scatter(csv1.Damage_in_Round, csv1.Rating)"
   ]
  },
  {
   "cell_type": "code",
   "execution_count": 30,
   "id": "b6a11fd0",
   "metadata": {},
   "outputs": [],
   "source": [
    "#In 2 examples above we can see how different affect Damage in Round and Kills per round to Rating\n",
    "# Kills in round affects more that Damage in round"
   ]
  },
  {
   "cell_type": "code",
   "execution_count": 31,
   "id": "5711c854",
   "metadata": {},
   "outputs": [
    {
     "data": {
      "text/html": [
       "<div>\n",
       "<style scoped>\n",
       "    .dataframe tbody tr th:only-of-type {\n",
       "        vertical-align: middle;\n",
       "    }\n",
       "\n",
       "    .dataframe tbody tr th {\n",
       "        vertical-align: top;\n",
       "    }\n",
       "\n",
       "    .dataframe thead th {\n",
       "        text-align: right;\n",
       "    }\n",
       "</style>\n",
       "<table border=\"1\" class=\"dataframe\">\n",
       "  <thead>\n",
       "    <tr style=\"text-align: right;\">\n",
       "      <th></th>\n",
       "      <th>player_name</th>\n",
       "      <th>player_age</th>\n",
       "      <th>Total_kills</th>\n",
       "      <th>Headshot_in_%</th>\n",
       "      <th>Total_deaths</th>\n",
       "      <th>Kills_deaths</th>\n",
       "      <th>Damage_in_Round</th>\n",
       "      <th>Grenade_dmg_in_Round</th>\n",
       "      <th>Maps_played</th>\n",
       "      <th>Rounds_played</th>\n",
       "      <th>Kills_in_round</th>\n",
       "      <th>Assists_in_round</th>\n",
       "      <th>Deaths_in_round</th>\n",
       "      <th>Saved_by_teammate_in_round</th>\n",
       "      <th>Saved_teammates_in_round</th>\n",
       "      <th>Rating</th>\n",
       "    </tr>\n",
       "  </thead>\n",
       "  <tbody>\n",
       "    <tr>\n",
       "      <th>0</th>\n",
       "      <td>x1ron</td>\n",
       "      <td>22.0</td>\n",
       "      <td>679</td>\n",
       "      <td>42.4</td>\n",
       "      <td>449</td>\n",
       "      <td>1.51</td>\n",
       "      <td>94.1</td>\n",
       "      <td>2.5</td>\n",
       "      <td>30</td>\n",
       "      <td>711</td>\n",
       "      <td>0.95</td>\n",
       "      <td>0.08</td>\n",
       "      <td>0.63</td>\n",
       "      <td>0.08</td>\n",
       "      <td>0.11</td>\n",
       "      <td>1.41</td>\n",
       "    </tr>\n",
       "    <tr>\n",
       "      <th>1</th>\n",
       "      <td>forsaken</td>\n",
       "      <td>26.0</td>\n",
       "      <td>609</td>\n",
       "      <td>59.8</td>\n",
       "      <td>425</td>\n",
       "      <td>1.43</td>\n",
       "      <td>86.5</td>\n",
       "      <td>2.3</td>\n",
       "      <td>27</td>\n",
       "      <td>682</td>\n",
       "      <td>0.89</td>\n",
       "      <td>0.09</td>\n",
       "      <td>0.62</td>\n",
       "      <td>0.09</td>\n",
       "      <td>0.14</td>\n",
       "      <td>1.31</td>\n",
       "    </tr>\n",
       "    <tr>\n",
       "      <th>2</th>\n",
       "      <td>ZywOo</td>\n",
       "      <td>21.0</td>\n",
       "      <td>20835</td>\n",
       "      <td>41.4</td>\n",
       "      <td>15086</td>\n",
       "      <td>1.38</td>\n",
       "      <td>88.8</td>\n",
       "      <td>3.6</td>\n",
       "      <td>934</td>\n",
       "      <td>24502</td>\n",
       "      <td>0.85</td>\n",
       "      <td>0.13</td>\n",
       "      <td>0.62</td>\n",
       "      <td>0.10</td>\n",
       "      <td>0.12</td>\n",
       "      <td>1.33</td>\n",
       "    </tr>\n",
       "    <tr>\n",
       "      <th>4</th>\n",
       "      <td>s1mple</td>\n",
       "      <td>24.0</td>\n",
       "      <td>33651</td>\n",
       "      <td>41.4</td>\n",
       "      <td>25119</td>\n",
       "      <td>1.34</td>\n",
       "      <td>86.5</td>\n",
       "      <td>2.3</td>\n",
       "      <td>1491</td>\n",
       "      <td>39335</td>\n",
       "      <td>0.86</td>\n",
       "      <td>0.10</td>\n",
       "      <td>0.64</td>\n",
       "      <td>0.08</td>\n",
       "      <td>0.11</td>\n",
       "      <td>1.25</td>\n",
       "    </tr>\n",
       "    <tr>\n",
       "      <th>5</th>\n",
       "      <td>HuNtR</td>\n",
       "      <td>25.0</td>\n",
       "      <td>1976</td>\n",
       "      <td>36.7</td>\n",
       "      <td>1440</td>\n",
       "      <td>1.37</td>\n",
       "      <td>89.1</td>\n",
       "      <td>4.7</td>\n",
       "      <td>92</td>\n",
       "      <td>2382</td>\n",
       "      <td>0.83</td>\n",
       "      <td>0.15</td>\n",
       "      <td>0.60</td>\n",
       "      <td>0.09</td>\n",
       "      <td>0.12</td>\n",
       "      <td>1.30</td>\n",
       "    </tr>\n",
       "    <tr>\n",
       "      <th>...</th>\n",
       "      <td>...</td>\n",
       "      <td>...</td>\n",
       "      <td>...</td>\n",
       "      <td>...</td>\n",
       "      <td>...</td>\n",
       "      <td>...</td>\n",
       "      <td>...</td>\n",
       "      <td>...</td>\n",
       "      <td>...</td>\n",
       "      <td>...</td>\n",
       "      <td>...</td>\n",
       "      <td>...</td>\n",
       "      <td>...</td>\n",
       "      <td>...</td>\n",
       "      <td>...</td>\n",
       "      <td>...</td>\n",
       "    </tr>\n",
       "    <tr>\n",
       "      <th>3831</th>\n",
       "      <td>hEATZ</td>\n",
       "      <td>28.0</td>\n",
       "      <td>221</td>\n",
       "      <td>34.8</td>\n",
       "      <td>349</td>\n",
       "      <td>0.63</td>\n",
       "      <td>56.7</td>\n",
       "      <td>1.1</td>\n",
       "      <td>20</td>\n",
       "      <td>413</td>\n",
       "      <td>0.54</td>\n",
       "      <td>0.07</td>\n",
       "      <td>0.85</td>\n",
       "      <td>0.07</td>\n",
       "      <td>0.06</td>\n",
       "      <td>0.69</td>\n",
       "    </tr>\n",
       "    <tr>\n",
       "      <th>3832</th>\n",
       "      <td>Bogdan</td>\n",
       "      <td>24.0</td>\n",
       "      <td>266</td>\n",
       "      <td>41.4</td>\n",
       "      <td>418</td>\n",
       "      <td>0.64</td>\n",
       "      <td>55.4</td>\n",
       "      <td>3.9</td>\n",
       "      <td>22</td>\n",
       "      <td>572</td>\n",
       "      <td>0.47</td>\n",
       "      <td>0.11</td>\n",
       "      <td>0.73</td>\n",
       "      <td>0.10</td>\n",
       "      <td>0.09</td>\n",
       "      <td>0.74</td>\n",
       "    </tr>\n",
       "    <tr>\n",
       "      <th>3834</th>\n",
       "      <td>arno</td>\n",
       "      <td>25.0</td>\n",
       "      <td>263</td>\n",
       "      <td>55.9</td>\n",
       "      <td>451</td>\n",
       "      <td>0.58</td>\n",
       "      <td>51.0</td>\n",
       "      <td>3.8</td>\n",
       "      <td>24</td>\n",
       "      <td>588</td>\n",
       "      <td>0.45</td>\n",
       "      <td>0.09</td>\n",
       "      <td>0.77</td>\n",
       "      <td>0.10</td>\n",
       "      <td>0.09</td>\n",
       "      <td>0.66</td>\n",
       "    </tr>\n",
       "    <tr>\n",
       "      <th>3836</th>\n",
       "      <td>flex0r</td>\n",
       "      <td>32.0</td>\n",
       "      <td>263</td>\n",
       "      <td>31.2</td>\n",
       "      <td>455</td>\n",
       "      <td>0.58</td>\n",
       "      <td>53.1</td>\n",
       "      <td>6.1</td>\n",
       "      <td>25</td>\n",
       "      <td>618</td>\n",
       "      <td>0.43</td>\n",
       "      <td>0.12</td>\n",
       "      <td>0.74</td>\n",
       "      <td>0.11</td>\n",
       "      <td>0.06</td>\n",
       "      <td>0.63</td>\n",
       "    </tr>\n",
       "    <tr>\n",
       "      <th>3837</th>\n",
       "      <td>shrek</td>\n",
       "      <td>20.0</td>\n",
       "      <td>317</td>\n",
       "      <td>56.2</td>\n",
       "      <td>533</td>\n",
       "      <td>0.59</td>\n",
       "      <td>59.7</td>\n",
       "      <td>1.7</td>\n",
       "      <td>24</td>\n",
       "      <td>613</td>\n",
       "      <td>0.52</td>\n",
       "      <td>0.11</td>\n",
       "      <td>0.87</td>\n",
       "      <td>0.10</td>\n",
       "      <td>0.05</td>\n",
       "      <td>0.69</td>\n",
       "    </tr>\n",
       "  </tbody>\n",
       "</table>\n",
       "<p>3492 rows × 16 columns</p>\n",
       "</div>"
      ],
      "text/plain": [
       "     player_name  player_age  Total_kills Headshot_in_%  Total_deaths  \\\n",
       "0          x1ron        22.0          679          42.4           449   \n",
       "1       forsaken        26.0          609          59.8           425   \n",
       "2          ZywOo        21.0        20835          41.4         15086   \n",
       "4         s1mple        24.0        33651          41.4         25119   \n",
       "5          HuNtR        25.0         1976          36.7          1440   \n",
       "...          ...         ...          ...           ...           ...   \n",
       "3831       hEATZ        28.0          221          34.8           349   \n",
       "3832      Bogdan        24.0          266          41.4           418   \n",
       "3834        arno        25.0          263          55.9           451   \n",
       "3836      flex0r        32.0          263          31.2           455   \n",
       "3837       shrek        20.0          317          56.2           533   \n",
       "\n",
       "      Kills_deaths  Damage_in_Round  Grenade_dmg_in_Round  Maps_played  \\\n",
       "0             1.51             94.1                   2.5           30   \n",
       "1             1.43             86.5                   2.3           27   \n",
       "2             1.38             88.8                   3.6          934   \n",
       "4             1.34             86.5                   2.3         1491   \n",
       "5             1.37             89.1                   4.7           92   \n",
       "...            ...              ...                   ...          ...   \n",
       "3831          0.63             56.7                   1.1           20   \n",
       "3832          0.64             55.4                   3.9           22   \n",
       "3834          0.58             51.0                   3.8           24   \n",
       "3836          0.58             53.1                   6.1           25   \n",
       "3837          0.59             59.7                   1.7           24   \n",
       "\n",
       "      Rounds_played  Kills_in_round  Assists_in_round  Deaths_in_round  \\\n",
       "0               711            0.95              0.08             0.63   \n",
       "1               682            0.89              0.09             0.62   \n",
       "2             24502            0.85              0.13             0.62   \n",
       "4             39335            0.86              0.10             0.64   \n",
       "5              2382            0.83              0.15             0.60   \n",
       "...             ...             ...               ...              ...   \n",
       "3831            413            0.54              0.07             0.85   \n",
       "3832            572            0.47              0.11             0.73   \n",
       "3834            588            0.45              0.09             0.77   \n",
       "3836            618            0.43              0.12             0.74   \n",
       "3837            613            0.52              0.11             0.87   \n",
       "\n",
       "      Saved_by_teammate_in_round  Saved_teammates_in_round  Rating  \n",
       "0                           0.08                      0.11    1.41  \n",
       "1                           0.09                      0.14    1.31  \n",
       "2                           0.10                      0.12    1.33  \n",
       "4                           0.08                      0.11    1.25  \n",
       "5                           0.09                      0.12    1.30  \n",
       "...                          ...                       ...     ...  \n",
       "3831                        0.07                      0.06    0.69  \n",
       "3832                        0.10                      0.09    0.74  \n",
       "3834                        0.10                      0.09    0.66  \n",
       "3836                        0.11                      0.06    0.63  \n",
       "3837                        0.10                      0.05    0.69  \n",
       "\n",
       "[3492 rows x 16 columns]"
      ]
     },
     "execution_count": 31,
     "metadata": {},
     "output_type": "execute_result"
    }
   ],
   "source": [
    "## PREDICTION\n",
    "csv1"
   ]
  },
  {
   "cell_type": "code",
   "execution_count": 32,
   "id": "541aab05",
   "metadata": {},
   "outputs": [],
   "source": [
    "def split_to_train_and_test(X, y, test_ratio, rand_state):\n",
    "    X_train, X_test, y_train, y_test = train_test_split(X, y, test_size=test_ratio, random_state=rand_state)\n",
    "    return X_train, X_test, y_train, y_test"
   ]
  },
  {
   "cell_type": "code",
   "execution_count": 33,
   "id": "90f5a4fe",
   "metadata": {},
   "outputs": [
    {
     "data": {
      "text/html": [
       "<div>\n",
       "<style scoped>\n",
       "    .dataframe tbody tr th:only-of-type {\n",
       "        vertical-align: middle;\n",
       "    }\n",
       "\n",
       "    .dataframe tbody tr th {\n",
       "        vertical-align: top;\n",
       "    }\n",
       "\n",
       "    .dataframe thead th {\n",
       "        text-align: right;\n",
       "    }\n",
       "</style>\n",
       "<table border=\"1\" class=\"dataframe\">\n",
       "  <thead>\n",
       "    <tr style=\"text-align: right;\">\n",
       "      <th></th>\n",
       "      <th>Actual</th>\n",
       "      <th>Predicted</th>\n",
       "    </tr>\n",
       "  </thead>\n",
       "  <tbody>\n",
       "    <tr>\n",
       "      <th>1021</th>\n",
       "      <td>1.07</td>\n",
       "      <td>1.075476</td>\n",
       "    </tr>\n",
       "    <tr>\n",
       "      <th>3274</th>\n",
       "      <td>0.91</td>\n",
       "      <td>0.890008</td>\n",
       "    </tr>\n",
       "    <tr>\n",
       "      <th>1357</th>\n",
       "      <td>1.04</td>\n",
       "      <td>1.020105</td>\n",
       "    </tr>\n",
       "    <tr>\n",
       "      <th>601</th>\n",
       "      <td>1.09</td>\n",
       "      <td>1.091136</td>\n",
       "    </tr>\n",
       "    <tr>\n",
       "      <th>1306</th>\n",
       "      <td>0.99</td>\n",
       "      <td>1.012068</td>\n",
       "    </tr>\n",
       "    <tr>\n",
       "      <th>...</th>\n",
       "      <td>...</td>\n",
       "      <td>...</td>\n",
       "    </tr>\n",
       "    <tr>\n",
       "      <th>2317</th>\n",
       "      <td>1.02</td>\n",
       "      <td>0.979805</td>\n",
       "    </tr>\n",
       "    <tr>\n",
       "      <th>2209</th>\n",
       "      <td>0.95</td>\n",
       "      <td>0.992483</td>\n",
       "    </tr>\n",
       "    <tr>\n",
       "      <th>778</th>\n",
       "      <td>1.05</td>\n",
       "      <td>1.034411</td>\n",
       "    </tr>\n",
       "    <tr>\n",
       "      <th>3321</th>\n",
       "      <td>0.93</td>\n",
       "      <td>0.912835</td>\n",
       "    </tr>\n",
       "    <tr>\n",
       "      <th>2144</th>\n",
       "      <td>0.98</td>\n",
       "      <td>0.954595</td>\n",
       "    </tr>\n",
       "  </tbody>\n",
       "</table>\n",
       "<p>1048 rows × 2 columns</p>\n",
       "</div>"
      ],
      "text/plain": [
       "      Actual  Predicted\n",
       "1021    1.07   1.075476\n",
       "3274    0.91   0.890008\n",
       "1357    1.04   1.020105\n",
       "601     1.09   1.091136\n",
       "1306    0.99   1.012068\n",
       "...      ...        ...\n",
       "2317    1.02   0.979805\n",
       "2209    0.95   0.992483\n",
       "778     1.05   1.034411\n",
       "3321    0.93   0.912835\n",
       "2144    0.98   0.954595\n",
       "\n",
       "[1048 rows x 2 columns]"
      ]
     },
     "execution_count": 33,
     "metadata": {},
     "output_type": "execute_result"
    }
   ],
   "source": [
    "clf = LinearRegression()\n",
    "X = csv1.drop(['Rating', 'player_name'], axis=1)\n",
    "y = csv1['Rating']\n",
    "X_train, X_test, y_train, y_test = split_to_train_and_test(X, y, 0.3, 41)\n",
    "class_model = clf.fit(X_train,y_train)\n",
    "y_pred=clf.predict(X_test)\n",
    "\n",
    "resDF=pd.DataFrame({\"Actual\":y_test,\"Predicted\":y_pred})\n",
    "resDF"
   ]
  },
  {
   "cell_type": "code",
   "execution_count": 34,
   "id": "e20bd602",
   "metadata": {},
   "outputs": [
    {
     "data": {
      "text/plain": [
       "0.936111527353364"
      ]
     },
     "execution_count": 34,
     "metadata": {},
     "output_type": "execute_result"
    }
   ],
   "source": [
    "evaluate_value = r2_score(y_test, y_pred)\n",
    "evaluate_value"
   ]
  },
  {
   "cell_type": "code",
   "execution_count": 35,
   "id": "eb6626c2",
   "metadata": {},
   "outputs": [
    {
     "data": {
      "text/plain": [
       "<matplotlib.collections.PathCollection at 0x1a9a2aa3e80>"
      ]
     },
     "execution_count": 35,
     "metadata": {},
     "output_type": "execute_result"
    },
    {
     "data": {
      "image/png": "[encoded data removed]",
      "text/plain": [
       "<Figure size 432x288 with 1 Axes>"
      ]
     },
     "metadata": {
      "needs_background": "light"
     },
     "output_type": "display_data"
    }
   ],
   "source": [
    "plt.scatter(csv1['Headshot_in_%'], csv1.Rating)"
   ]
  },
  {
   "cell_type": "code",
   "execution_count": 55,
   "id": "43459c83",
   "metadata": {},
   "outputs": [
    {
     "data": {
      "text/html": [
       "<div>\n",
       "<style scoped>\n",
       "    .dataframe tbody tr th:only-of-type {\n",
       "        vertical-align: middle;\n",
       "    }\n",
       "\n",
       "    .dataframe tbody tr th {\n",
       "        vertical-align: top;\n",
       "    }\n",
       "\n",
       "    .dataframe thead th {\n",
       "        text-align: right;\n",
       "    }\n",
       "</style>\n",
       "<table border=\"1\" class=\"dataframe\">\n",
       "  <thead>\n",
       "    <tr style=\"text-align: right;\">\n",
       "      <th></th>\n",
       "      <th>player_age</th>\n",
       "      <th>Total_kills</th>\n",
       "      <th>Total_deaths</th>\n",
       "      <th>Kills_deaths</th>\n",
       "      <th>Damage_in_Round</th>\n",
       "      <th>Grenade_dmg_in_Round</th>\n",
       "      <th>Maps_played</th>\n",
       "      <th>Rounds_played</th>\n",
       "      <th>Kills_in_round</th>\n",
       "      <th>Assists_in_round</th>\n",
       "      <th>Deaths_in_round</th>\n",
       "      <th>Saved_by_teammate_in_round</th>\n",
       "      <th>Saved_teammates_in_round</th>\n",
       "      <th>Rating</th>\n",
       "    </tr>\n",
       "  </thead>\n",
       "  <tbody>\n",
       "    <tr>\n",
       "      <th>player_age</th>\n",
       "      <td>1.000000</td>\n",
       "      <td>0.096051</td>\n",
       "      <td>0.111029</td>\n",
       "      <td>-0.140653</td>\n",
       "      <td>-0.146765</td>\n",
       "      <td>0.062209</td>\n",
       "      <td>0.111598</td>\n",
       "      <td>0.107734</td>\n",
       "      <td>-0.165615</td>\n",
       "      <td>0.242254</td>\n",
       "      <td>0.036741</td>\n",
       "      <td>-0.098182</td>\n",
       "      <td>-0.275235</td>\n",
       "      <td>-0.296323</td>\n",
       "    </tr>\n",
       "    <tr>\n",
       "      <th>Total_kills</th>\n",
       "      <td>0.096051</td>\n",
       "      <td>1.000000</td>\n",
       "      <td>0.994732</td>\n",
       "      <td>0.420404</td>\n",
       "      <td>0.260437</td>\n",
       "      <td>0.146152</td>\n",
       "      <td>0.997061</td>\n",
       "      <td>0.997115</td>\n",
       "      <td>0.306115</td>\n",
       "      <td>0.057223</td>\n",
       "      <td>-0.415969</td>\n",
       "      <td>-0.135691</td>\n",
       "      <td>-0.050350</td>\n",
       "      <td>0.311187</td>\n",
       "    </tr>\n",
       "    <tr>\n",
       "      <th>Total_deaths</th>\n",
       "      <td>0.111029</td>\n",
       "      <td>0.994732</td>\n",
       "      <td>1.000000</td>\n",
       "      <td>0.373869</td>\n",
       "      <td>0.232307</td>\n",
       "      <td>0.157029</td>\n",
       "      <td>0.998501</td>\n",
       "      <td>0.998662</td>\n",
       "      <td>0.265069</td>\n",
       "      <td>0.075263</td>\n",
       "      <td>-0.385674</td>\n",
       "      <td>-0.119635</td>\n",
       "      <td>-0.068418</td>\n",
       "      <td>0.267144</td>\n",
       "    </tr>\n",
       "    <tr>\n",
       "      <th>Kills_deaths</th>\n",
       "      <td>-0.140653</td>\n",
       "      <td>0.420404</td>\n",
       "      <td>0.373869</td>\n",
       "      <td>1.000000</td>\n",
       "      <td>0.709495</td>\n",
       "      <td>0.009279</td>\n",
       "      <td>0.390855</td>\n",
       "      <td>0.390541</td>\n",
       "      <td>0.902999</td>\n",
       "      <td>-0.104962</td>\n",
       "      <td>-0.741106</td>\n",
       "      <td>-0.254215</td>\n",
       "      <td>0.289279</td>\n",
       "      <td>0.932708</td>\n",
       "    </tr>\n",
       "    <tr>\n",
       "      <th>Damage_in_Round</th>\n",
       "      <td>-0.146765</td>\n",
       "      <td>0.260437</td>\n",
       "      <td>0.232307</td>\n",
       "      <td>0.709495</td>\n",
       "      <td>1.000000</td>\n",
       "      <td>0.183528</td>\n",
       "      <td>0.232483</td>\n",
       "      <td>0.231939</td>\n",
       "      <td>0.861528</td>\n",
       "      <td>0.317041</td>\n",
       "      <td>-0.193713</td>\n",
       "      <td>-0.087850</td>\n",
       "      <td>0.318967</td>\n",
       "      <td>0.783979</td>\n",
       "    </tr>\n",
       "    <tr>\n",
       "      <th>Grenade_dmg_in_Round</th>\n",
       "      <td>0.062209</td>\n",
       "      <td>0.146152</td>\n",
       "      <td>0.157029</td>\n",
       "      <td>0.009279</td>\n",
       "      <td>0.183528</td>\n",
       "      <td>1.000000</td>\n",
       "      <td>0.154197</td>\n",
       "      <td>0.154722</td>\n",
       "      <td>-0.029861</td>\n",
       "      <td>0.456151</td>\n",
       "      <td>-0.080980</td>\n",
       "      <td>0.023707</td>\n",
       "      <td>-0.044784</td>\n",
       "      <td>0.031365</td>\n",
       "    </tr>\n",
       "    <tr>\n",
       "      <th>Maps_played</th>\n",
       "      <td>0.111598</td>\n",
       "      <td>0.997061</td>\n",
       "      <td>0.998501</td>\n",
       "      <td>0.390855</td>\n",
       "      <td>0.232483</td>\n",
       "      <td>0.154197</td>\n",
       "      <td>1.000000</td>\n",
       "      <td>0.999862</td>\n",
       "      <td>0.271543</td>\n",
       "      <td>0.066073</td>\n",
       "      <td>-0.409101</td>\n",
       "      <td>-0.128029</td>\n",
       "      <td>-0.064226</td>\n",
       "      <td>0.278791</td>\n",
       "    </tr>\n",
       "    <tr>\n",
       "      <th>Rounds_played</th>\n",
       "      <td>0.107734</td>\n",
       "      <td>0.997115</td>\n",
       "      <td>0.998662</td>\n",
       "      <td>0.390541</td>\n",
       "      <td>0.231939</td>\n",
       "      <td>0.154722</td>\n",
       "      <td>0.999862</td>\n",
       "      <td>1.000000</td>\n",
       "      <td>0.271009</td>\n",
       "      <td>0.063805</td>\n",
       "      <td>-0.409343</td>\n",
       "      <td>-0.128685</td>\n",
       "      <td>-0.064382</td>\n",
       "      <td>0.279373</td>\n",
       "    </tr>\n",
       "    <tr>\n",
       "      <th>Kills_in_round</th>\n",
       "      <td>-0.165615</td>\n",
       "      <td>0.306115</td>\n",
       "      <td>0.265069</td>\n",
       "      <td>0.902999</td>\n",
       "      <td>0.861528</td>\n",
       "      <td>-0.029861</td>\n",
       "      <td>0.271543</td>\n",
       "      <td>0.271009</td>\n",
       "      <td>1.000000</td>\n",
       "      <td>0.005143</td>\n",
       "      <td>-0.393072</td>\n",
       "      <td>-0.172654</td>\n",
       "      <td>0.328372</td>\n",
       "      <td>0.916522</td>\n",
       "    </tr>\n",
       "    <tr>\n",
       "      <th>Assists_in_round</th>\n",
       "      <td>0.242254</td>\n",
       "      <td>0.057223</td>\n",
       "      <td>0.075263</td>\n",
       "      <td>-0.104962</td>\n",
       "      <td>0.317041</td>\n",
       "      <td>0.456151</td>\n",
       "      <td>0.066073</td>\n",
       "      <td>0.063805</td>\n",
       "      <td>0.005143</td>\n",
       "      <td>1.000000</td>\n",
       "      <td>0.214417</td>\n",
       "      <td>0.280943</td>\n",
       "      <td>0.038318</td>\n",
       "      <td>-0.039789</td>\n",
       "    </tr>\n",
       "    <tr>\n",
       "      <th>Deaths_in_round</th>\n",
       "      <td>0.036741</td>\n",
       "      <td>-0.415969</td>\n",
       "      <td>-0.385674</td>\n",
       "      <td>-0.741106</td>\n",
       "      <td>-0.193713</td>\n",
       "      <td>-0.080980</td>\n",
       "      <td>-0.409101</td>\n",
       "      <td>-0.409343</td>\n",
       "      <td>-0.393072</td>\n",
       "      <td>0.214417</td>\n",
       "      <td>1.000000</td>\n",
       "      <td>0.271257</td>\n",
       "      <td>-0.118036</td>\n",
       "      <td>-0.585334</td>\n",
       "    </tr>\n",
       "    <tr>\n",
       "      <th>Saved_by_teammate_in_round</th>\n",
       "      <td>-0.098182</td>\n",
       "      <td>-0.135691</td>\n",
       "      <td>-0.119635</td>\n",
       "      <td>-0.254215</td>\n",
       "      <td>-0.087850</td>\n",
       "      <td>0.023707</td>\n",
       "      <td>-0.128029</td>\n",
       "      <td>-0.128685</td>\n",
       "      <td>-0.172654</td>\n",
       "      <td>0.280943</td>\n",
       "      <td>0.271257</td>\n",
       "      <td>1.000000</td>\n",
       "      <td>0.335210</td>\n",
       "      <td>-0.146089</td>\n",
       "    </tr>\n",
       "    <tr>\n",
       "      <th>Saved_teammates_in_round</th>\n",
       "      <td>-0.275235</td>\n",
       "      <td>-0.050350</td>\n",
       "      <td>-0.068418</td>\n",
       "      <td>0.289279</td>\n",
       "      <td>0.318967</td>\n",
       "      <td>-0.044784</td>\n",
       "      <td>-0.064226</td>\n",
       "      <td>-0.064382</td>\n",
       "      <td>0.328372</td>\n",
       "      <td>0.038318</td>\n",
       "      <td>-0.118036</td>\n",
       "      <td>0.335210</td>\n",
       "      <td>1.000000</td>\n",
       "      <td>0.341800</td>\n",
       "    </tr>\n",
       "    <tr>\n",
       "      <th>Rating</th>\n",
       "      <td>-0.296323</td>\n",
       "      <td>0.311187</td>\n",
       "      <td>0.267144</td>\n",
       "      <td>0.932708</td>\n",
       "      <td>0.783979</td>\n",
       "      <td>0.031365</td>\n",
       "      <td>0.278791</td>\n",
       "      <td>0.279373</td>\n",
       "      <td>0.916522</td>\n",
       "      <td>-0.039789</td>\n",
       "      <td>-0.585334</td>\n",
       "      <td>-0.146089</td>\n",
       "      <td>0.341800</td>\n",
       "      <td>1.000000</td>\n",
       "    </tr>\n",
       "  </tbody>\n",
       "</table>\n",
       "</div>"
      ],
      "text/plain": [
       "                            player_age  Total_kills  Total_deaths  \\\n",
       "player_age                    1.000000     0.096051      0.111029   \n",
       "Total_kills                   0.096051     1.000000      0.994732   \n",
       "Total_deaths                  0.111029     0.994732      1.000000   \n",
       "Kills_deaths                 -0.140653     0.420404      0.373869   \n",
       "Damage_in_Round              -0.146765     0.260437      0.232307   \n",
       "Grenade_dmg_in_Round          0.062209     0.146152      0.157029   \n",
       "Maps_played                   0.111598     0.997061      0.998501   \n",
       "Rounds_played                 0.107734     0.997115      0.998662   \n",
       "Kills_in_round               -0.165615     0.306115      0.265069   \n",
       "Assists_in_round              0.242254     0.057223      0.075263   \n",
       "Deaths_in_round               0.036741    -0.415969     -0.385674   \n",
       "Saved_by_teammate_in_round   -0.098182    -0.135691     -0.119635   \n",
       "Saved_teammates_in_round     -0.275235    -0.050350     -0.068418   \n",
       "Rating                       -0.296323     0.311187      0.267144   \n",
       "\n",
       "                            Kills_deaths  Damage_in_Round  \\\n",
       "player_age                     -0.140653        -0.146765   \n",
       "Total_kills                     0.420404         0.260437   \n",
       "Total_deaths                    0.373869         0.232307   \n",
       "Kills_deaths                    1.000000         0.709495   \n",
       "Damage_in_Round                 0.709495         1.000000   \n",
       "Grenade_dmg_in_Round            0.009279         0.183528   \n",
       "Maps_played                     0.390855         0.232483   \n",
       "Rounds_played                   0.390541         0.231939   \n",
       "Kills_in_round                  0.902999         0.861528   \n",
       "Assists_in_round               -0.104962         0.317041   \n",
       "Deaths_in_round                -0.741106        -0.193713   \n",
       "Saved_by_teammate_in_round     -0.254215        -0.087850   \n",
       "Saved_teammates_in_round        0.289279         0.318967   \n",
       "Rating                          0.932708         0.783979   \n",
       "\n",
       "                            Grenade_dmg_in_Round  Maps_played  Rounds_played  \\\n",
       "player_age                              0.062209     0.111598       0.107734   \n",
       "Total_kills                             0.146152     0.997061       0.997115   \n",
       "Total_deaths                            0.157029     0.998501       0.998662   \n",
       "Kills_deaths                            0.009279     0.390855       0.390541   \n",
       "Damage_in_Round                         0.183528     0.232483       0.231939   \n",
       "Grenade_dmg_in_Round                    1.000000     0.154197       0.154722   \n",
       "Maps_played                             0.154197     1.000000       0.999862   \n",
       "Rounds_played                           0.154722     0.999862       1.000000   \n",
       "Kills_in_round                         -0.029861     0.271543       0.271009   \n",
       "Assists_in_round                        0.456151     0.066073       0.063805   \n",
       "Deaths_in_round                        -0.080980    -0.409101      -0.409343   \n",
       "Saved_by_teammate_in_round              0.023707    -0.128029      -0.128685   \n",
       "Saved_teammates_in_round               -0.044784    -0.064226      -0.064382   \n",
       "Rating                                  0.031365     0.278791       0.279373   \n",
       "\n",
       "                            Kills_in_round  Assists_in_round  Deaths_in_round  \\\n",
       "player_age                       -0.165615          0.242254         0.036741   \n",
       "Total_kills                       0.306115          0.057223        -0.415969   \n",
       "Total_deaths                      0.265069          0.075263        -0.385674   \n",
       "Kills_deaths                      0.902999         -0.104962        -0.741106   \n",
       "Damage_in_Round                   0.861528          0.317041        -0.193713   \n",
       "Grenade_dmg_in_Round             -0.029861          0.456151        -0.080980   \n",
       "Maps_played                       0.271543          0.066073        -0.409101   \n",
       "Rounds_played                     0.271009          0.063805        -0.409343   \n",
       "Kills_in_round                    1.000000          0.005143        -0.393072   \n",
       "Assists_in_round                  0.005143          1.000000         0.214417   \n",
       "Deaths_in_round                  -0.393072          0.214417         1.000000   \n",
       "Saved_by_teammate_in_round       -0.172654          0.280943         0.271257   \n",
       "Saved_teammates_in_round          0.328372          0.038318        -0.118036   \n",
       "Rating                            0.916522         -0.039789        -0.585334   \n",
       "\n",
       "                            Saved_by_teammate_in_round  \\\n",
       "player_age                                   -0.098182   \n",
       "Total_kills                                  -0.135691   \n",
       "Total_deaths                                 -0.119635   \n",
       "Kills_deaths                                 -0.254215   \n",
       "Damage_in_Round                              -0.087850   \n",
       "Grenade_dmg_in_Round                          0.023707   \n",
       "Maps_played                                  -0.128029   \n",
       "Rounds_played                                -0.128685   \n",
       "Kills_in_round                               -0.172654   \n",
       "Assists_in_round                              0.280943   \n",
       "Deaths_in_round                               0.271257   \n",
       "Saved_by_teammate_in_round                    1.000000   \n",
       "Saved_teammates_in_round                      0.335210   \n",
       "Rating                                       -0.146089   \n",
       "\n",
       "                            Saved_teammates_in_round    Rating  \n",
       "player_age                                 -0.275235 -0.296323  \n",
       "Total_kills                                -0.050350  0.311187  \n",
       "Total_deaths                               -0.068418  0.267144  \n",
       "Kills_deaths                                0.289279  0.932708  \n",
       "Damage_in_Round                             0.318967  0.783979  \n",
       "Grenade_dmg_in_Round                       -0.044784  0.031365  \n",
       "Maps_played                                -0.064226  0.278791  \n",
       "Rounds_played                              -0.064382  0.279373  \n",
       "Kills_in_round                              0.328372  0.916522  \n",
       "Assists_in_round                            0.038318 -0.039789  \n",
       "Deaths_in_round                            -0.118036 -0.585334  \n",
       "Saved_by_teammate_in_round                  0.335210 -0.146089  \n",
       "Saved_teammates_in_round                    1.000000  0.341800  \n",
       "Rating                                      0.341800  1.000000  "
      ]
     },
     "execution_count": 55,
     "metadata": {},
     "output_type": "execute_result"
    }
   ],
   "source": [
    "csv1.corr()"
   ]
  },
  {
   "cell_type": "code",
   "execution_count": 54,
   "id": "65569b0d",
   "metadata": {},
   "outputs": [
    {
     "data": {
      "text/plain": [
       "Text(0, 0.5, 'Rating')"
      ]
     },
     "execution_count": 54,
     "metadata": {},
     "output_type": "execute_result"
    },
    {
     "data": {
      "image/png": "[encoded data removed]",
      "text/plain": [
       "<Figure size 432x288 with 1 Axes>"
      ]
     },
     "metadata": {
      "needs_background": "light"
     },
     "output_type": "display_data"
    }
   ],
   "source": [
    "plt.scatter(csv1['Kills_deaths'], csv1.Rating) #We can see that if player wants to imrpove his rating he need to work on his K/D\n",
    "plt.xlabel(\"Kills/Deaths\") #x label\n",
    "plt.ylabel(\"Rating\") #y label"
   ]
  },
  {
   "cell_type": "code",
   "execution_count": 52,
   "id": "abe01a00",
   "metadata": {},
   "outputs": [
    {
     "data": {
      "text/plain": [
       "Text(0, 0.5, 'Rating')"
      ]
     },
     "execution_count": 52,
     "metadata": {},
     "output_type": "execute_result"
    },
    {
     "data": {
      "image/png": "[encoded data removed]",
      "text/plain": [
       "<Figure size 432x288 with 1 Axes>"
      ]
     },
     "metadata": {
      "needs_background": "light"
     },
     "output_type": "display_data"
    }
   ],
   "source": [
    "plt.scatter(csv1['Damage_in_Round'], csv1.Rating) ##Damage in round is also affect but it's less important than K/D his scatterplot more spreaded \n",
    "plt.xlabel(\"Demage in Round\") #x label\n",
    "plt.ylabel(\"Rating\") #y label"
   ]
  },
  {
   "cell_type": "code",
   "execution_count": 56,
   "id": "085b8269",
   "metadata": {},
   "outputs": [
    {
     "data": {
      "text/plain": [
       "Text(0, 0.5, 'Rating')"
      ]
     },
     "execution_count": 56,
     "metadata": {},
     "output_type": "execute_result"
    },
    {
     "data": {
      "image/png": "[encoded data removed]",
      "text/plain": [
       "<Figure size 432x288 with 1 Axes>"
      ]
     },
     "metadata": {
      "needs_background": "light"
     },
     "output_type": "display_data"
    }
   ],
   "source": [
    "plt.scatter(csv1['Total_kills'], csv1.Rating) ## And what is interesting that only amount of kills not so important as well is KD\n",
    "plt.xlabel(\"Total kills\") #x label\n",
    "plt.ylabel(\"Rating\") #y label"
   ]
  },
  {
   "cell_type": "code",
   "execution_count": 40,
   "id": "fa949282",
   "metadata": {},
   "outputs": [
    {
     "data": {
      "text/plain": [
       "<matplotlib.collections.PathCollection at 0x1a9a2fa5880>"
      ]
     },
     "execution_count": 40,
     "metadata": {},
     "output_type": "execute_result"
    },
    {
     "data": {
      "image/png": "[encoded data removed]",
      "text/plain": [
       "<Figure size 432x288 with 1 Axes>"
      ]
     },
     "metadata": {
      "needs_background": "light"
     },
     "output_type": "display_data"
    }
   ],
   "source": [
    "plt.scatter(csv1['player_age'], csv1.Rating) #Here is correlation is less than 0"
   ]
  },
  {
   "cell_type": "code",
   "execution_count": null,
   "id": "e9aeab06",
   "metadata": {},
   "outputs": [],
   "source": []
  },
  {
   "cell_type": "code",
   "execution_count": null,
   "id": "a007e23d",
   "metadata": {},
   "outputs": [],
   "source": []
  }
 ],
 "metadata": {
  "kernelspec": {
   "display_name": "Python 3",
   "language": "python",
   "name": "python3"
  },
  "language_info": {
   "codemirror_mode": {
    "name": "ipython",
    "version": 3
   },
   "file_extension": ".py",
   "mimetype": "text/x-python",
   "name": "python",
   "nbconvert_exporter": "python",
   "pygments_lexer": "ipython3",
   "version": "3.8.8"
  }
 },
 "nbformat": 4,
 "nbformat_minor": 5
}
